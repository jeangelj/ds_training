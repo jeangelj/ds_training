{
 "cells": [
  {
   "cell_type": "markdown",
   "metadata": {},
   "source": [
    "# Udacity - Problem Solving with Advanced Analytics Exercise"
   ]
  },
  {
   "cell_type": "markdown",
   "metadata": {},
   "source": [
    "Solving the final problem presented in the Udacity tutorial in python. \n",
    "https://www.udacity.com/course/problem-solving-with-advanced-analytics--ud976"
   ]
  },
  {
   "cell_type": "markdown",
   "metadata": {},
   "source": [
    "First we need to look at the data. The tutorial recommends that we use histograms and scatterplots to evaluate the relationship and make sue it is linear. "
   ]
  },
  {
   "cell_type": "code",
   "execution_count": 9,
   "metadata": {
    "collapsed": true
   },
   "outputs": [],
   "source": [
    "import pandas as pd #import the pandas module\n",
    "import numpy as np #import numpy module"
   ]
  },
  {
   "cell_type": "code",
   "execution_count": 18,
   "metadata": {
    "collapsed": false
   },
   "outputs": [],
   "source": [
    "#read the csv into a dataframe\n",
    "df = pd.read_csv ('/Users/jeangelj/Documents/training/linexdata.csv', sep=',')"
   ]
  },
  {
   "cell_type": "code",
   "execution_count": 19,
   "metadata": {
    "collapsed": false
   },
   "outputs": [
    {
     "data": {
      "text/html": [
       "<div>\n",
       "<table border=\"1\" class=\"dataframe\">\n",
       "  <thead>\n",
       "    <tr style=\"text-align: right;\">\n",
       "      <th></th>\n",
       "      <th>AverageNumberofTickets</th>\n",
       "      <th>NumberofEmployees</th>\n",
       "      <th>ValueofContract</th>\n",
       "      <th>Industry</th>\n",
       "    </tr>\n",
       "  </thead>\n",
       "  <tbody>\n",
       "    <tr>\n",
       "      <th>0</th>\n",
       "      <td>1</td>\n",
       "      <td>51</td>\n",
       "      <td>25750</td>\n",
       "      <td>Retail</td>\n",
       "    </tr>\n",
       "    <tr>\n",
       "      <th>1</th>\n",
       "      <td>9</td>\n",
       "      <td>68</td>\n",
       "      <td>25000</td>\n",
       "      <td>Services</td>\n",
       "    </tr>\n",
       "    <tr>\n",
       "      <th>2</th>\n",
       "      <td>20</td>\n",
       "      <td>67</td>\n",
       "      <td>40000</td>\n",
       "      <td>Services</td>\n",
       "    </tr>\n",
       "    <tr>\n",
       "      <th>3</th>\n",
       "      <td>1</td>\n",
       "      <td>124</td>\n",
       "      <td>35000</td>\n",
       "      <td>Retail</td>\n",
       "    </tr>\n",
       "    <tr>\n",
       "      <th>4</th>\n",
       "      <td>8</td>\n",
       "      <td>124</td>\n",
       "      <td>25000</td>\n",
       "      <td>Manufacturing</td>\n",
       "    </tr>\n",
       "    <tr>\n",
       "      <th>5</th>\n",
       "      <td>30</td>\n",
       "      <td>134</td>\n",
       "      <td>50000</td>\n",
       "      <td>Services</td>\n",
       "    </tr>\n",
       "    <tr>\n",
       "      <th>6</th>\n",
       "      <td>20</td>\n",
       "      <td>157</td>\n",
       "      <td>48000</td>\n",
       "      <td>Retail</td>\n",
       "    </tr>\n",
       "    <tr>\n",
       "      <th>7</th>\n",
       "      <td>8</td>\n",
       "      <td>190</td>\n",
       "      <td>32000</td>\n",
       "      <td>Retail</td>\n",
       "    </tr>\n",
       "    <tr>\n",
       "      <th>8</th>\n",
       "      <td>20</td>\n",
       "      <td>205</td>\n",
       "      <td>70000</td>\n",
       "      <td>Retail</td>\n",
       "    </tr>\n",
       "    <tr>\n",
       "      <th>9</th>\n",
       "      <td>50</td>\n",
       "      <td>230</td>\n",
       "      <td>75000</td>\n",
       "      <td>Manufacturing</td>\n",
       "    </tr>\n",
       "    <tr>\n",
       "      <th>10</th>\n",
       "      <td>35</td>\n",
       "      <td>265</td>\n",
       "      <td>50000</td>\n",
       "      <td>Manufacturing</td>\n",
       "    </tr>\n",
       "    <tr>\n",
       "      <th>11</th>\n",
       "      <td>65</td>\n",
       "      <td>296</td>\n",
       "      <td>75000</td>\n",
       "      <td>Services</td>\n",
       "    </tr>\n",
       "    <tr>\n",
       "      <th>12</th>\n",
       "      <td>35</td>\n",
       "      <td>336</td>\n",
       "      <td>50000</td>\n",
       "      <td>Manufacturing</td>\n",
       "    </tr>\n",
       "    <tr>\n",
       "      <th>13</th>\n",
       "      <td>60</td>\n",
       "      <td>359</td>\n",
       "      <td>75000</td>\n",
       "      <td>Manufacturing</td>\n",
       "    </tr>\n",
       "    <tr>\n",
       "      <th>14</th>\n",
       "      <td>85</td>\n",
       "      <td>403</td>\n",
       "      <td>81000</td>\n",
       "      <td>Services</td>\n",
       "    </tr>\n",
       "    <tr>\n",
       "      <th>15</th>\n",
       "      <td>40</td>\n",
       "      <td>418</td>\n",
       "      <td>60000</td>\n",
       "      <td>Retail</td>\n",
       "    </tr>\n",
       "    <tr>\n",
       "      <th>16</th>\n",
       "      <td>75</td>\n",
       "      <td>437</td>\n",
       "      <td>53000</td>\n",
       "      <td>Services</td>\n",
       "    </tr>\n",
       "    <tr>\n",
       "      <th>17</th>\n",
       "      <td>85</td>\n",
       "      <td>451</td>\n",
       "      <td>90000</td>\n",
       "      <td>Services</td>\n",
       "    </tr>\n",
       "    <tr>\n",
       "      <th>18</th>\n",
       "      <td>65</td>\n",
       "      <td>465</td>\n",
       "      <td>70000</td>\n",
       "      <td>Retail</td>\n",
       "    </tr>\n",
       "    <tr>\n",
       "      <th>19</th>\n",
       "      <td>95</td>\n",
       "      <td>491</td>\n",
       "      <td>100000</td>\n",
       "      <td>Services</td>\n",
       "    </tr>\n",
       "  </tbody>\n",
       "</table>\n",
       "</div>"
      ],
      "text/plain": [
       "    AverageNumberofTickets  NumberofEmployees  ValueofContract       Industry\n",
       "0                        1                 51            25750         Retail\n",
       "1                        9                 68            25000       Services\n",
       "2                       20                 67            40000       Services\n",
       "3                        1                124            35000         Retail\n",
       "4                        8                124            25000  Manufacturing\n",
       "5                       30                134            50000       Services\n",
       "6                       20                157            48000         Retail\n",
       "7                        8                190            32000         Retail\n",
       "8                       20                205            70000         Retail\n",
       "9                       50                230            75000  Manufacturing\n",
       "10                      35                265            50000  Manufacturing\n",
       "11                      65                296            75000       Services\n",
       "12                      35                336            50000  Manufacturing\n",
       "13                      60                359            75000  Manufacturing\n",
       "14                      85                403            81000       Services\n",
       "15                      40                418            60000         Retail\n",
       "16                      75                437            53000       Services\n",
       "17                      85                451            90000       Services\n",
       "18                      65                465            70000         Retail\n",
       "19                      95                491           100000       Services"
      ]
     },
     "execution_count": 19,
     "metadata": {},
     "output_type": "execute_result"
    }
   ],
   "source": [
    "#let's see how the data look like\n",
    "df"
   ]
  },
  {
   "cell_type": "code",
   "execution_count": 14,
   "metadata": {
    "collapsed": true
   },
   "outputs": [],
   "source": [
    "#import everything for data visualizations\n",
    "import matplotlib.pyplot as plt\n",
    "import seaborn as sb\n",
    "\n",
    "sb.set_style('whitegrid') #set seaborn style as white background\n",
    "%matplotlib inline \n",
    "#to always see our plots"
   ]
  },
  {
   "cell_type": "code",
   "execution_count": 20,
   "metadata": {
    "collapsed": false
   },
   "outputs": [
    {
     "data": {
      "image/png": "[encoded data removed]",
      "text/plain": [
       "<matplotlib.figure.Figure at 0x10e0b6bd0>"
      ]
     },
     "metadata": {},
     "output_type": "display_data"
    }
   ],
   "source": [
    "#histogram of what we are trying to predict (no normal distribution)\n",
    "f = df.AverageNumberofTickets.hist(bins=30)"
   ]
  },
  {
   "cell_type": "code",
   "execution_count": 15,
   "metadata": {
    "collapsed": false
   },
   "outputs": [
    {
     "data": {
      "text/plain": [
       "array([[<matplotlib.axes._subplots.AxesSubplot object at 0x10d30c3d0>,\n",
       "        <matplotlib.axes._subplots.AxesSubplot object at 0x108212810>,\n",
       "        <matplotlib.axes._subplots.AxesSubplot object at 0x10824b910>],\n",
       "       [<matplotlib.axes._subplots.AxesSubplot object at 0x108303490>,\n",
       "        <matplotlib.axes._subplots.AxesSubplot object at 0x10d391450>,\n",
       "        <matplotlib.axes._subplots.AxesSubplot object at 0x10d3f34d0>],\n",
       "       [<matplotlib.axes._subplots.AxesSubplot object at 0x10d476490>,\n",
       "        <matplotlib.axes._subplots.AxesSubplot object at 0x10d6112d0>,\n",
       "        <matplotlib.axes._subplots.AxesSubplot object at 0x10d69b510>]], dtype=object)"
      ]
     },
     "execution_count": 15,
     "metadata": {},
     "output_type": "execute_result"
    },
    {
     "data": {
      "image/png": "[encoded data removed]",
      "text/plain": [
       "<matplotlib.figure.Figure at 0x10d2f7a90>"
      ]
     },
     "metadata": {},
     "output_type": "display_data"
    }
   ],
   "source": [
    "#scatterplots of all variables against each other\n",
    "pd.scatter_matrix(df, figsize=(10,10))"
   ]
  },
  {
   "cell_type": "markdown",
   "metadata": {},
   "source": [
    "There is a linear relationship as can be seen in the scatterplots."
   ]
  },
  {
   "cell_type": "code",
   "execution_count": 21,
   "metadata": {
    "collapsed": false
   },
   "outputs": [
    {
     "data": {
      "text/html": [
       "<div>\n",
       "<table border=\"1\" class=\"dataframe\">\n",
       "  <thead>\n",
       "    <tr style=\"text-align: right;\">\n",
       "      <th></th>\n",
       "      <th>AverageNumberofTickets</th>\n",
       "      <th>NumberofEmployees</th>\n",
       "      <th>ValueofContract</th>\n",
       "    </tr>\n",
       "  </thead>\n",
       "  <tbody>\n",
       "    <tr>\n",
       "      <th>count</th>\n",
       "      <td>20.000000</td>\n",
       "      <td>20.000000</td>\n",
       "      <td>20.000000</td>\n",
       "    </tr>\n",
       "    <tr>\n",
       "      <th>mean</th>\n",
       "      <td>40.350000</td>\n",
       "      <td>263.550000</td>\n",
       "      <td>56487.500000</td>\n",
       "    </tr>\n",
       "    <tr>\n",
       "      <th>std</th>\n",
       "      <td>30.304203</td>\n",
       "      <td>147.853226</td>\n",
       "      <td>22353.981601</td>\n",
       "    </tr>\n",
       "    <tr>\n",
       "      <th>min</th>\n",
       "      <td>1.000000</td>\n",
       "      <td>51.000000</td>\n",
       "      <td>25000.000000</td>\n",
       "    </tr>\n",
       "    <tr>\n",
       "      <th>25%</th>\n",
       "      <td>17.250000</td>\n",
       "      <td>131.500000</td>\n",
       "      <td>38750.000000</td>\n",
       "    </tr>\n",
       "    <tr>\n",
       "      <th>50%</th>\n",
       "      <td>35.000000</td>\n",
       "      <td>247.500000</td>\n",
       "      <td>51500.000000</td>\n",
       "    </tr>\n",
       "    <tr>\n",
       "      <th>75%</th>\n",
       "      <td>65.000000</td>\n",
       "      <td>406.750000</td>\n",
       "      <td>75000.000000</td>\n",
       "    </tr>\n",
       "    <tr>\n",
       "      <th>max</th>\n",
       "      <td>95.000000</td>\n",
       "      <td>491.000000</td>\n",
       "      <td>100000.000000</td>\n",
       "    </tr>\n",
       "  </tbody>\n",
       "</table>\n",
       "</div>"
      ],
      "text/plain": [
       "       AverageNumberofTickets  NumberofEmployees  ValueofContract\n",
       "count               20.000000          20.000000        20.000000\n",
       "mean                40.350000         263.550000     56487.500000\n",
       "std                 30.304203         147.853226     22353.981601\n",
       "min                  1.000000          51.000000     25000.000000\n",
       "25%                 17.250000         131.500000     38750.000000\n",
       "50%                 35.000000         247.500000     51500.000000\n",
       "75%                 65.000000         406.750000     75000.000000\n",
       "max                 95.000000         491.000000    100000.000000"
      ]
     },
     "execution_count": 21,
     "metadata": {},
     "output_type": "execute_result"
    }
   ],
   "source": [
    "#let's also look at some descriptive \n",
    "df.describe()"
   ]
  },
  {
   "cell_type": "code",
   "execution_count": 58,
   "metadata": {
    "collapsed": false
   },
   "outputs": [
    {
     "data": {
      "image/png": "[encoded data removed]",
      "text/plain": [
       "<matplotlib.figure.Figure at 0x10e53a490>"
      ]
     },
     "metadata": {},
     "output_type": "display_data"
    }
   ],
   "source": [
    "#scatterplots of the two numerical variables \n",
    "fig, axes = plt.subplots(ncols=2) \n",
    "f = df.plot(kind='scatter', x='NumberofEmployees', y='AverageNumberofTickets', ax=axes[0], title=\"NumberofEmployees\", figsize=(12,3))\n",
    "f = df.plot(kind='scatter', x='ValueofContract', y='AverageNumberofTickets', ax=axes[1], title=\"ValueofContract\")"
   ]
  },
  {
   "cell_type": "code",
   "execution_count": 61,
   "metadata": {
    "collapsed": false
   },
   "outputs": [
    {
     "data": {
      "image/png": "[encoded data removed]",
      "text/plain": [
       "<matplotlib.figure.Figure at 0x110ac9ad0>"
      ]
     },
     "metadata": {},
     "output_type": "display_data"
    }
   ],
   "source": [
    "#if we want to use a trendline to see the linear relationship, we can use seaborn\n",
    "f = sb.lmplot(x = 'NumberofEmployees', y='AverageNumberofTickets', data=df, ci=95)\n",
    "f = plt.title(\"AverageNumberofTickets vs NumberofEmployees\")"
   ]
  },
  {
   "cell_type": "markdown",
   "metadata": {},
   "source": [
    "## Linear Regression"
   ]
  },
  {
   "cell_type": "code",
   "execution_count": 28,
   "metadata": {
    "collapsed": false,
    "scrolled": false
   },
   "outputs": [
    {
     "data": {
      "text/plain": [
       "0.78620714716141293"
      ]
     },
     "execution_count": 28,
     "metadata": {},
     "output_type": "execute_result"
    }
   ],
   "source": [
    "#now we will upload the linear regression model from sklearn\n",
    "from sklearn.linear_model import LinearRegression\n",
    "\n",
    "#so we don't have to keep on writing it out, let's call it model\n",
    "model = LinearRegression()\n",
    "\n",
    "#first let's try the model with one variable (so a linear regression)\n",
    "#we specify what is X (predictor variable) and y (target variable)\n",
    "X, y = df[['NumberofEmployees']], df.AverageNumberofTickets\n",
    "\n",
    "#let's run the model\n",
    "model.fit(X, y)\n",
    "\n",
    "#let's see its r-squared\n",
    "model.score(X, y)"
   ]
  },
  {
   "cell_type": "markdown",
   "metadata": {},
   "source": [
    "The score above is R-squared - the coefficient of determination. It is the percent variance in observations explained by the model. In other words, it shows how well the data fits the trend line. Closer to 1 means that nearly all variance in the target variable is explained by the model. "
   ]
  },
  {
   "cell_type": "code",
   "execution_count": 29,
   "metadata": {
    "collapsed": false
   },
   "outputs": [
    {
     "data": {
      "text/plain": [
       "-7.5464782252213638"
      ]
     },
     "execution_count": 29,
     "metadata": {},
     "output_type": "execute_result"
    }
   ],
   "source": [
    "# y- intercept \n",
    "model.intercept_"
   ]
  },
  {
   "cell_type": "code",
   "execution_count": 30,
   "metadata": {
    "collapsed": false
   },
   "outputs": [
    {
     "data": {
      "text/plain": [
       "array([ 0.18173583])"
      ]
     },
     "execution_count": 30,
     "metadata": {},
     "output_type": "execute_result"
    }
   ],
   "source": [
    "# slope \n",
    "model.coef_"
   ]
  },
  {
   "cell_type": "code",
   "execution_count": 31,
   "metadata": {
    "collapsed": false
   },
   "outputs": [
    {
     "data": {
      "text/plain": [
       "{'_residues': 3730.3752823967297,\n",
       " 'coef_': array([ 0.18173583]),\n",
       " 'copy_X': True,\n",
       " 'fit_intercept': True,\n",
       " 'intercept_': -7.5464782252213638,\n",
       " 'n_jobs': 1,\n",
       " 'normalize': False,\n",
       " 'rank_': 1,\n",
       " 'singular_': array([ 644.4772688])}"
      ]
     },
     "execution_count": 31,
     "metadata": {},
     "output_type": "execute_result"
    }
   ],
   "source": [
    "#you can use this neat function\n",
    "model.__dict__"
   ]
  },
  {
   "cell_type": "code",
   "execution_count": 40,
   "metadata": {
    "collapsed": false
   },
   "outputs": [
    {
     "name": "stdout",
     "output_type": "stream",
     "text": [
      "AverageNumberofTickets = -24.267 + 0.102 NumberofEmployees + 0.001 ValueofContract\n"
     ]
    }
   ],
   "source": [
    "#or print the equation\n",
    "coefs = zip(model.coef_, X.columns)\n",
    "print \"AverageNumberofTickets = %.3f + \" % model.intercept_ + \\\n",
    "    \" + \".join(\"%.3f %s\" % coef for coef in coefs)"
   ]
  },
  {
   "cell_type": "markdown",
   "metadata": {},
   "source": [
    "## Multiple Linear Regression"
   ]
  },
  {
   "cell_type": "code",
   "execution_count": 45,
   "metadata": {
    "collapsed": false
   },
   "outputs": [
    {
     "data": {
      "text/plain": [
       "0.87764337132340009"
      ]
     },
     "execution_count": 45,
     "metadata": {},
     "output_type": "execute_result"
    }
   ],
   "source": [
    "#we will now use more than one x (multiple regression analysis)\n",
    "X, y = df[['NumberofEmployees','ValueofContract']], df.AverageNumberofTickets\n",
    "model.fit(X, y)\n",
    "model.score(X, y)#r-squared"
   ]
  },
  {
   "cell_type": "code",
   "execution_count": 41,
   "metadata": {
    "collapsed": false
   },
   "outputs": [
    {
     "name": "stdout",
     "output_type": "stream",
     "text": [
      "AverageNumberofTickets = -24.267 + 0.102 NumberofEmployees + 0.001 ValueofContract\n"
     ]
    }
   ],
   "source": [
    "coefs = zip(model.coef_, X.columns)\n",
    "print \"AverageNumberofTickets = %.3f + \" % model.intercept_ + \\\n",
    "    \" + \".join(\"%.3f %s\" % coef for coef in coefs)"
   ]
  },
  {
   "cell_type": "markdown",
   "metadata": {},
   "source": [
    "Please note that this model gave us only r-squared and not the adjusted r-squared. \n",
    "Remeber (from Udacity): \"The adjusted r-squared value should be used with multiple linear regressions due to a phenomenon that occurs when adding additional variables to the model. In a nutshell, the more variables that are included, the higher the r-squared value will be - even if there is no relationship between the additional variables and the target variable. Therefore, we use the Adjusted R-squared value.\""
   ]
  },
  {
   "cell_type": "markdown",
   "metadata": {},
   "source": [
    "## Multiple Linear Regression with categorical values"
   ]
  },
  {
   "cell_type": "markdown",
   "metadata": {},
   "source": [
    "To use categorical variables in the regression analysis, we need to create dummy variables"
   ]
  },
  {
   "cell_type": "code",
   "execution_count": 42,
   "metadata": {
    "collapsed": true
   },
   "outputs": [],
   "source": [
    "#load the dmatrices module from patsy to create dummy variables in a matrix\n",
    "from patsy import dmatrices"
   ]
  },
  {
   "cell_type": "code",
   "execution_count": 43,
   "metadata": {
    "collapsed": false
   },
   "outputs": [
    {
     "data": {
      "text/plain": [
       "Services         8\n",
       "Retail           7\n",
       "Manufacturing    5\n",
       "Name: Industry, dtype: int64"
      ]
     },
     "execution_count": 43,
     "metadata": {},
     "output_type": "execute_result"
    }
   ],
   "source": [
    "#Let's check how many categories we have in \"Industry\"\n",
    "df['Industry'].value_counts()"
   ]
  },
  {
   "cell_type": "markdown",
   "metadata": {},
   "source": [
    "There are 3 categories in \"Industry\", so we need 2 dummy variables. "
   ]
  },
  {
   "cell_type": "code",
   "execution_count": 47,
   "metadata": {
    "collapsed": false
   },
   "outputs": [],
   "source": [
    "#let's create the dummy variables\n",
    "y, X = dmatrices('AverageNumberofTickets ~ NumberofEmployees + ValueofContract + Industry', data=df, return_type='dataframe')"
   ]
  },
  {
   "cell_type": "code",
   "execution_count": 55,
   "metadata": {
    "collapsed": false
   },
   "outputs": [
    {
     "data": {
      "text/html": [
       "<div>\n",
       "<table border=\"1\" class=\"dataframe\">\n",
       "  <thead>\n",
       "    <tr style=\"text-align: right;\">\n",
       "      <th></th>\n",
       "      <th>Intercept</th>\n",
       "      <th>Industry[T.Retail]</th>\n",
       "      <th>Industry[T.Services]</th>\n",
       "      <th>NumberofEmployees</th>\n",
       "      <th>ValueofContract</th>\n",
       "    </tr>\n",
       "  </thead>\n",
       "  <tbody>\n",
       "    <tr>\n",
       "      <th>0</th>\n",
       "      <td>1</td>\n",
       "      <td>1</td>\n",
       "      <td>0</td>\n",
       "      <td>51</td>\n",
       "      <td>25750</td>\n",
       "    </tr>\n",
       "    <tr>\n",
       "      <th>1</th>\n",
       "      <td>1</td>\n",
       "      <td>0</td>\n",
       "      <td>1</td>\n",
       "      <td>68</td>\n",
       "      <td>25000</td>\n",
       "    </tr>\n",
       "    <tr>\n",
       "      <th>2</th>\n",
       "      <td>1</td>\n",
       "      <td>0</td>\n",
       "      <td>1</td>\n",
       "      <td>67</td>\n",
       "      <td>40000</td>\n",
       "    </tr>\n",
       "    <tr>\n",
       "      <th>3</th>\n",
       "      <td>1</td>\n",
       "      <td>1</td>\n",
       "      <td>0</td>\n",
       "      <td>124</td>\n",
       "      <td>35000</td>\n",
       "    </tr>\n",
       "    <tr>\n",
       "      <th>4</th>\n",
       "      <td>1</td>\n",
       "      <td>0</td>\n",
       "      <td>0</td>\n",
       "      <td>124</td>\n",
       "      <td>25000</td>\n",
       "    </tr>\n",
       "  </tbody>\n",
       "</table>\n",
       "</div>"
      ],
      "text/plain": [
       "   Intercept  Industry[T.Retail]  Industry[T.Services]  NumberofEmployees  \\\n",
       "0          1                   1                     0                 51   \n",
       "1          1                   0                     1                 68   \n",
       "2          1                   0                     1                 67   \n",
       "3          1                   1                     0                124   \n",
       "4          1                   0                     0                124   \n",
       "\n",
       "   ValueofContract  \n",
       "0            25750  \n",
       "1            25000  \n",
       "2            40000  \n",
       "3            35000  \n",
       "4            25000  "
      ]
     },
     "execution_count": 55,
     "metadata": {},
     "output_type": "execute_result"
    }
   ],
   "source": [
    "#I'm sure you want to see how those look like \n",
    "X.head()"
   ]
  },
  {
   "cell_type": "code",
   "execution_count": 48,
   "metadata": {
    "collapsed": false
   },
   "outputs": [
    {
     "data": {
      "text/plain": [
       "0.96510710786128162"
      ]
     },
     "execution_count": 48,
     "metadata": {},
     "output_type": "execute_result"
    }
   ],
   "source": [
    "#now let's run the model with those\n",
    "model = LinearRegression()\n",
    "model.fit(X, y).score(X, y)"
   ]
  },
  {
   "cell_type": "code",
   "execution_count": 50,
   "metadata": {
    "collapsed": false
   },
   "outputs": [
    {
     "name": "stdout",
     "output_type": "stream",
     "text": [
      "[-18.45040543]\n",
      "Intercept 0.0\n",
      "Industry[T.Retail] -8.72535890413\n",
      "Industry[T.Services] 12.4937810096\n",
      "NumberofEmployees 0.111606827645\n",
      "ValueofContract 0.000485820565963\n"
     ]
    }
   ],
   "source": [
    "#voila - model ready\n",
    "print model.intercept_\n",
    "for i, val in zip(X.columns, model.coef_[0]):\n",
    "   print i, val"
   ]
  },
  {
   "cell_type": "markdown",
   "metadata": {},
   "source": [
    "## faster way"
   ]
  },
  {
   "cell_type": "markdown",
   "metadata": {},
   "source": [
    "yes ... there is a faster way with ols"
   ]
  },
  {
   "cell_type": "code",
   "execution_count": 52,
   "metadata": {
    "collapsed": true
   },
   "outputs": [],
   "source": [
    "import statsmodels.formula.api as sm"
   ]
  },
  {
   "cell_type": "code",
   "execution_count": 53,
   "metadata": {
    "collapsed": false
   },
   "outputs": [
    {
     "data": {
      "text/html": [
       "<table class=\"simpletable\">\n",
       "<caption>OLS Regression Results</caption>\n",
       "<tr>\n",
       "  <th>Dep. Variable:</th>    <td>AverageNumberofTickets</td> <th>  R-squared:         </th> <td>   0.878</td>\n",
       "</tr>\n",
       "<tr>\n",
       "  <th>Model:</th>                      <td>OLS</td>          <th>  Adj. R-squared:    </th> <td>   0.863</td>\n",
       "</tr>\n",
       "<tr>\n",
       "  <th>Method:</th>                <td>Least Squares</td>     <th>  F-statistic:       </th> <td>   60.97</td>\n",
       "</tr>\n",
       "<tr>\n",
       "  <th>Date:</th>                <td>Fri, 03 Feb 2017</td>    <th>  Prob (F-statistic):</th> <td>1.76e-08</td>\n",
       "</tr>\n",
       "<tr>\n",
       "  <th>Time:</th>                    <td>17:07:45</td>        <th>  Log-Likelihood:    </th> <td> -75.083</td>\n",
       "</tr>\n",
       "<tr>\n",
       "  <th>No. Observations:</th>         <td>    20</td>         <th>  AIC:               </th> <td>   156.2</td>\n",
       "</tr>\n",
       "<tr>\n",
       "  <th>Df Residuals:</th>             <td>    17</td>         <th>  BIC:               </th> <td>   159.2</td>\n",
       "</tr>\n",
       "<tr>\n",
       "  <th>Df Model:</th>                 <td>     2</td>         <th>                     </th>     <td> </td>   \n",
       "</tr>\n",
       "<tr>\n",
       "  <th>Covariance Type:</th>         <td>nonrobust</td>       <th>                     </th>     <td> </td>   \n",
       "</tr>\n",
       "</table>\n",
       "<table class=\"simpletable\">\n",
       "<tr>\n",
       "          <td></td>             <th>coef</th>     <th>std err</th>      <th>t</th>      <th>P>|t|</th> <th>[95.0% Conf. Int.]</th> \n",
       "</tr>\n",
       "<tr>\n",
       "  <th>Intercept</th>         <td>  -24.2667</td> <td>    7.020</td> <td>   -3.457</td> <td> 0.003</td> <td>  -39.079    -9.455</td>\n",
       "</tr>\n",
       "<tr>\n",
       "  <th>NumberofEmployees</th> <td>    0.1019</td> <td>    0.028</td> <td>    3.594</td> <td> 0.002</td> <td>    0.042     0.162</td>\n",
       "</tr>\n",
       "<tr>\n",
       "  <th>ValueofContract</th>   <td>    0.0007</td> <td>    0.000</td> <td>    3.564</td> <td> 0.002</td> <td>    0.000     0.001</td>\n",
       "</tr>\n",
       "</table>\n",
       "<table class=\"simpletable\">\n",
       "<tr>\n",
       "  <th>Omnibus:</th>       <td> 0.901</td> <th>  Durbin-Watson:     </th> <td>   2.452</td>\n",
       "</tr>\n",
       "<tr>\n",
       "  <th>Prob(Omnibus):</th> <td> 0.637</td> <th>  Jarque-Bera (JB):  </th> <td>   0.511</td>\n",
       "</tr>\n",
       "<tr>\n",
       "  <th>Skew:</th>          <td>-0.384</td> <th>  Prob(JB):          </th> <td>   0.775</td>\n",
       "</tr>\n",
       "<tr>\n",
       "  <th>Kurtosis:</th>      <td> 2.851</td> <th>  Cond. No.          </th> <td>1.70e+05</td>\n",
       "</tr>\n",
       "</table>"
      ],
      "text/plain": [
       "<class 'statsmodels.iolib.summary.Summary'>\n",
       "\"\"\"\n",
       "                              OLS Regression Results                              \n",
       "==================================================================================\n",
       "Dep. Variable:     AverageNumberofTickets   R-squared:                       0.878\n",
       "Model:                                OLS   Adj. R-squared:                  0.863\n",
       "Method:                     Least Squares   F-statistic:                     60.97\n",
       "Date:                    Fri, 03 Feb 2017   Prob (F-statistic):           1.76e-08\n",
       "Time:                            17:07:45   Log-Likelihood:                -75.083\n",
       "No. Observations:                      20   AIC:                             156.2\n",
       "Df Residuals:                          17   BIC:                             159.2\n",
       "Df Model:                               2                                         \n",
       "Covariance Type:                nonrobust                                         \n",
       "=====================================================================================\n",
       "                        coef    std err          t      P>|t|      [95.0% Conf. Int.]\n",
       "-------------------------------------------------------------------------------------\n",
       "Intercept           -24.2667      7.020     -3.457      0.003       -39.079    -9.455\n",
       "NumberofEmployees     0.1019      0.028      3.594      0.002         0.042     0.162\n",
       "ValueofContract       0.0007      0.000      3.564      0.002         0.000     0.001\n",
       "==============================================================================\n",
       "Omnibus:                        0.901   Durbin-Watson:                   2.452\n",
       "Prob(Omnibus):                  0.637   Jarque-Bera (JB):                0.511\n",
       "Skew:                          -0.384   Prob(JB):                        0.775\n",
       "Kurtosis:                       2.851   Cond. No.                     1.70e+05\n",
       "==============================================================================\n",
       "\n",
       "Warnings:\n",
       "[1] Standard Errors assume that the covariance matrix of the errors is correctly specified.\n",
       "[2] The condition number is large, 1.7e+05. This might indicate that there are\n",
       "strong multicollinearity or other numerical problems.\n",
       "\"\"\""
      ]
     },
     "execution_count": 53,
     "metadata": {},
     "output_type": "execute_result"
    }
   ],
   "source": [
    "model = sm.ols(formula=\"AverageNumberofTickets ~ NumberofEmployees + ValueofContract\", data=df).fit()\n",
    "model.summary()"
   ]
  },
  {
   "cell_type": "markdown",
   "metadata": {},
   "source": [
    "**Also this way gives us R-squared!**"
   ]
  },
  {
   "cell_type": "code",
   "execution_count": 54,
   "metadata": {
    "collapsed": false,
    "scrolled": true
   },
   "outputs": [
    {
     "data": {
      "text/html": [
       "<table class=\"simpletable\">\n",
       "<caption>OLS Regression Results</caption>\n",
       "<tr>\n",
       "  <th>Dep. Variable:</th>    <td>AverageNumberofTickets</td> <th>  R-squared:         </th> <td>   0.965</td>\n",
       "</tr>\n",
       "<tr>\n",
       "  <th>Model:</th>                      <td>OLS</td>          <th>  Adj. R-squared:    </th> <td>   0.956</td>\n",
       "</tr>\n",
       "<tr>\n",
       "  <th>Method:</th>                <td>Least Squares</td>     <th>  F-statistic:       </th> <td>   103.7</td>\n",
       "</tr>\n",
       "<tr>\n",
       "  <th>Date:</th>                <td>Fri, 03 Feb 2017</td>    <th>  Prob (F-statistic):</th> <td>9.69e-11</td>\n",
       "</tr>\n",
       "<tr>\n",
       "  <th>Time:</th>                    <td>17:08:45</td>        <th>  Log-Likelihood:    </th> <td> -62.537</td>\n",
       "</tr>\n",
       "<tr>\n",
       "  <th>No. Observations:</th>         <td>    20</td>         <th>  AIC:               </th> <td>   135.1</td>\n",
       "</tr>\n",
       "<tr>\n",
       "  <th>Df Residuals:</th>             <td>    15</td>         <th>  BIC:               </th> <td>   140.1</td>\n",
       "</tr>\n",
       "<tr>\n",
       "  <th>Df Model:</th>                 <td>     4</td>         <th>                     </th>     <td> </td>   \n",
       "</tr>\n",
       "<tr>\n",
       "  <th>Covariance Type:</th>         <td>nonrobust</td>       <th>                     </th>     <td> </td>   \n",
       "</tr>\n",
       "</table>\n",
       "<table class=\"simpletable\">\n",
       "<tr>\n",
       "            <td></td>              <th>coef</th>     <th>std err</th>      <th>t</th>      <th>P>|t|</th> <th>[95.0% Conf. Int.]</th> \n",
       "</tr>\n",
       "<tr>\n",
       "  <th>Intercept</th>            <td>  -18.4504</td> <td>    4.765</td> <td>   -3.872</td> <td> 0.002</td> <td>  -28.606    -8.295</td>\n",
       "</tr>\n",
       "<tr>\n",
       "  <th>Industry[T.Retail]</th>   <td>   -8.7254</td> <td>    3.756</td> <td>   -2.323</td> <td> 0.035</td> <td>  -16.731    -0.720</td>\n",
       "</tr>\n",
       "<tr>\n",
       "  <th>Industry[T.Services]</th> <td>   12.4938</td> <td>    3.700</td> <td>    3.377</td> <td> 0.004</td> <td>    4.607    20.380</td>\n",
       "</tr>\n",
       "<tr>\n",
       "  <th>NumberofEmployees</th>    <td>    0.1116</td> <td>    0.016</td> <td>    6.886</td> <td> 0.000</td> <td>    0.077     0.146</td>\n",
       "</tr>\n",
       "<tr>\n",
       "  <th>ValueofContract</th>      <td>    0.0005</td> <td>    0.000</td> <td>    4.387</td> <td> 0.001</td> <td>    0.000     0.001</td>\n",
       "</tr>\n",
       "</table>\n",
       "<table class=\"simpletable\">\n",
       "<tr>\n",
       "  <th>Omnibus:</th>       <td> 0.884</td> <th>  Durbin-Watson:     </th> <td>   2.835</td>\n",
       "</tr>\n",
       "<tr>\n",
       "  <th>Prob(Omnibus):</th> <td> 0.643</td> <th>  Jarque-Bera (JB):  </th> <td>   0.716</td>\n",
       "</tr>\n",
       "<tr>\n",
       "  <th>Skew:</th>          <td>-0.010</td> <th>  Prob(JB):          </th> <td>   0.699</td>\n",
       "</tr>\n",
       "<tr>\n",
       "  <th>Kurtosis:</th>      <td> 2.073</td> <th>  Cond. No.          </th> <td>2.45e+05</td>\n",
       "</tr>\n",
       "</table>"
      ],
      "text/plain": [
       "<class 'statsmodels.iolib.summary.Summary'>\n",
       "\"\"\"\n",
       "                              OLS Regression Results                              \n",
       "==================================================================================\n",
       "Dep. Variable:     AverageNumberofTickets   R-squared:                       0.965\n",
       "Model:                                OLS   Adj. R-squared:                  0.956\n",
       "Method:                     Least Squares   F-statistic:                     103.7\n",
       "Date:                    Fri, 03 Feb 2017   Prob (F-statistic):           9.69e-11\n",
       "Time:                            17:08:45   Log-Likelihood:                -62.537\n",
       "No. Observations:                      20   AIC:                             135.1\n",
       "Df Residuals:                          15   BIC:                             140.1\n",
       "Df Model:                               4                                         \n",
       "Covariance Type:                nonrobust                                         \n",
       "========================================================================================\n",
       "                           coef    std err          t      P>|t|      [95.0% Conf. Int.]\n",
       "----------------------------------------------------------------------------------------\n",
       "Intercept              -18.4504      4.765     -3.872      0.002       -28.606    -8.295\n",
       "Industry[T.Retail]      -8.7254      3.756     -2.323      0.035       -16.731    -0.720\n",
       "Industry[T.Services]    12.4938      3.700      3.377      0.004         4.607    20.380\n",
       "NumberofEmployees        0.1116      0.016      6.886      0.000         0.077     0.146\n",
       "ValueofContract          0.0005      0.000      4.387      0.001         0.000     0.001\n",
       "==============================================================================\n",
       "Omnibus:                        0.884   Durbin-Watson:                   2.835\n",
       "Prob(Omnibus):                  0.643   Jarque-Bera (JB):                0.716\n",
       "Skew:                          -0.010   Prob(JB):                        0.699\n",
       "Kurtosis:                       2.073   Cond. No.                     2.45e+05\n",
       "==============================================================================\n",
       "\n",
       "Warnings:\n",
       "[1] Standard Errors assume that the covariance matrix of the errors is correctly specified.\n",
       "[2] The condition number is large, 2.45e+05. This might indicate that there are\n",
       "strong multicollinearity or other numerical problems.\n",
       "\"\"\""
      ]
     },
     "execution_count": 54,
     "metadata": {},
     "output_type": "execute_result"
    }
   ],
   "source": [
    "model = sm.ols(formula='AverageNumberofTickets ~ NumberofEmployees + ValueofContract + Industry', data=df).fit()\n",
    "model.summary()"
   ]
  },
  {
   "cell_type": "markdown",
   "metadata": {},
   "source": [
    "Note that you can read this output the same way as the Alteryx example in the exercise:\n",
    "\n",
    "- coef: Those are the coefficient estimates that give use the regression equation.\n",
    "\n",
    "- P>|t|: \"The p value is the probability that observed results (the coefficient estimate) occurred by chance, and that there is no actual relationship between the predictor and target variable. In other words, the p-value is the probability that the coefficient is zero. The lower the p-value the higher the probability that a relationship exists between the predictor and target variable. If the p-value is high, we should not rely on the coefficient estimate. When a predictor variable has a p-value below 0.05, the relationship between it and the target variable is considered to be statistically significant.\"(from Udacity)\n",
    "\n",
    "- Unfortunately there are no stars telling you how statistically significant the coefficients are, you need to juedge that yourself by the p-value (hint: Number of Employees is the most statistically significant one) \n",
    "\"Statistical significance is a result that is not likely to occur randomly, but rather is likely to be attributable to a specific cause.\" \n",
    "\n",
    "- We also get the R-squared here and excitingly the Adjusted R-squared as well. They are very close to 1, so this model is very good. \n"
   ]
  },
  {
   "cell_type": "markdown",
   "metadata": {},
   "source": [
    "## the problem"
   ]
  },
  {
   "cell_type": "markdown",
   "metadata": {},
   "source": [
    "- The new client has 732 employees, with a contract value that is worth $825,000, and is in the services industry.\n",
    "- Your company currently has 23 help desk resources on staff, and each resource has a capacity of 125 tickets per week.\n",
    "- The current average number of tickets that the help desk has been receiving is 2800 per week."
   ]
  },
  {
   "cell_type": "markdown",
   "metadata": {},
   "source": [
    "- Intercept: -18.45\n",
    "- Number of Employees: 0.1116\n",
    "- Value of Contract: 0.0004858\n",
    "- Industry - Manufacturing: 0\n",
    "- Industry - Retail: -8.725\n",
    "- Industry - Services: 12.49"
   ]
  },
  {
   "cell_type": "code",
   "execution_count": 62,
   "metadata": {
    "collapsed": true
   },
   "outputs": [],
   "source": [
    "AverageNumberofTickets_newclient = -18.45 + (732* 0.1116) + (825000*0.0004858) + (-8.725*0)+ (12.49*1)"
   ]
  },
  {
   "cell_type": "code",
   "execution_count": 63,
   "metadata": {
    "collapsed": false
   },
   "outputs": [
    {
     "data": {
      "text/plain": [
       "476.51619999999997"
      ]
     },
     "execution_count": 63,
     "metadata": {},
     "output_type": "execute_result"
    }
   ],
   "source": [
    "AverageNumberofTickets_newclient"
   ]
  },
  {
   "cell_type": "markdown",
   "metadata": {},
   "source": [
    "So 477 extra tickets."
   ]
  },
  {
   "cell_type": "code",
   "execution_count": 71,
   "metadata": {
    "collapsed": false
   },
   "outputs": [
    {
     "data": {
      "text/plain": [
       "2875.0"
      ]
     },
     "execution_count": 71,
     "metadata": {},
     "output_type": "execute_result"
    }
   ],
   "source": [
    "#what's the total capacity per week?\n",
    "T_capactity = 23.0* 125.0\n",
    "T_capactity"
   ]
  },
  {
   "cell_type": "markdown",
   "metadata": {},
   "source": [
    "We are currently receiving 2800 a week, so we have 75 we can use for the new client, this means that we still have 477 - 75 = 402 addtitional tickets"
   ]
  },
  {
   "cell_type": "code",
   "execution_count": 70,
   "metadata": {
    "collapsed": false
   },
   "outputs": [
    {
     "data": {
      "text/plain": [
       "3.216"
      ]
     },
     "execution_count": 70,
     "metadata": {},
     "output_type": "execute_result"
    }
   ],
   "source": [
    "#so if we need 402 additional tickets to be processed, how many extra people do we need? \n",
    "extra_peops = 402.0/125.0\n",
    "extra_peops"
   ]
  },
  {
   "cell_type": "markdown",
   "metadata": {},
   "source": [
    "We need 4 extra help desk resources. "
   ]
  }
 ],
 "metadata": {
  "kernelspec": {
   "display_name": "Python 2",
   "language": "python",
   "name": "python2"
  },
  "language_info": {
   "codemirror_mode": {
    "name": "ipython",
    "version": 2
   },
   "file_extension": ".py",
   "mimetype": "text/x-python",
   "name": "python",
   "nbconvert_exporter": "python",
   "pygments_lexer": "ipython2",
   "version": "2.7.11"
  }
 },
 "nbformat": 4,
 "nbformat_minor": 0
}
